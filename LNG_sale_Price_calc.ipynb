{
  "nbformat": 4,
  "nbformat_minor": 0,
  "metadata": {
    "colab": {
      "provenance": [],
      "gpuType": "T4",
      "authorship_tag": "ABX9TyOG3V5k4ojF6+Qto+Q0dYmz",
      "include_colab_link": true
    },
    "kernelspec": {
      "name": "python3",
      "display_name": "Python 3"
    },
    "language_info": {
      "name": "python"
    },
    "accelerator": "GPU"
  },
  "cells": [
    {
      "cell_type": "markdown",
      "metadata": {
        "id": "view-in-github",
        "colab_type": "text"
      },
      "source": [
        "<a href=\"https://colab.research.google.com/github/masifkhan3/LNG_sale_Price_calc/blob/main/LNG_sale_Price_calc.ipynb\" target=\"_parent\"><img src=\"https://colab.research.google.com/assets/colab-badge.svg\" alt=\"Open In Colab\"/></a>"
      ]
    },
    {
      "cell_type": "code",
      "source": [
        "# Define a function to calculate LNG sale price\n",
        "def calculate_lng_rate(brent_price_avg, brent_to_lng_percent):\n",
        "    \"\"\"\n",
        "    Calculate LNG Rate in $/MMBTU based on Brent crude oil price and Brent to LNG percentage.\n",
        "\n",
        "    Parameters:\n",
        "    brent_price_avg (float): Average Brent crude oil price in $/bbl.\n",
        "    brent_to_lng_percent (float): Percentage to convert Brent price to LNG rate.\n",
        "\n",
        "    Returns:\n",
        "    float: LNG rate in $/MMBTU.\n",
        "    \"\"\"\n",
        "    lng_rate = brent_price_avg * (brent_to_lng_percent / 100)\n",
        "    return round(lng_rate, 4)\n",
        "\n",
        "\n",
        "\n",
        "\n",
        "# Get month, year, and Brent crude oil prices from the user\n",
        "data = []\n",
        "print(\"\\nEnter data for the last three months:\")\n",
        "for i in range(1, 4):\n",
        "    while True:\n",
        "        try:\n",
        "            month_year = input(f\"Enter Month and Year for Month {i} (e.g., 'December 2024'): \")\n",
        "            price = float(input(f\"Enter the average Brent crude oil price for {month_year} ($/bbl): \"))\n",
        "            data.append((month_year, price))\n",
        "            break\n",
        "        except ValueError:\n",
        "            print(\"Invalid input! Please enter valid numeric data.\")\n",
        "\n",
        "# Calculate the average Brent price\n",
        "brent_price_avg = sum(price for _, price in data) / len(data)\n",
        "\n",
        "# Calculate the LNG rate based on the average Brent price\n",
        "lng_rate = calculate_lng_rate(brent_price_avg, brent_to_lng_percent)\n",
        "\n",
        "# Display results\n",
        "print(\"\\nResults:\")\n",
        "print(\"Month/Year\\t\\tBrent Price ($/bbl)\")\n",
        "for month_year, price in data:\n",
        "    print(f\"{month_year}\\t{price:.4f}\")\n",
        "print(f\"\\nAverage Brent Price: ${brent_price_avg:.4f} per barrel\")\n",
        "print(f\"LNG Rate: ${lng_rate:.4f} per MMBTU\")\n"
      ],
      "metadata": {
        "colab": {
          "base_uri": "https://localhost:8080/"
        },
        "id": "v-AiEGxXQFZ6",
        "outputId": "ce14c59a-7184-47f8-cf22-833d37fad585"
      },
      "execution_count": 13,
      "outputs": [
        {
          "output_type": "stream",
          "name": "stdout",
          "text": [
            "\n",
            "Enter data for the last three months:\n",
            "Enter Month and Year for Month 1 (e.g., 'December 2024'): dec\n",
            "Enter the average Brent crude oil price for dec ($/bbl): 75\n",
            "Enter Month and Year for Month 2 (e.g., 'December 2024'): jan\n",
            "Enter the average Brent crude oil price for jan ($/bbl): 80\n",
            "Enter Month and Year for Month 3 (e.g., 'December 2024'): feb\n",
            "Enter the average Brent crude oil price for feb ($/bbl): 85\n",
            "\n",
            "Results:\n",
            "Month/Year\t\tBrent Price ($/bbl)\n",
            "dec\t75.0000\n",
            "jan\t80.0000\n",
            "feb\t85.0000\n",
            "\n",
            "Average Brent Price: $80.0000 per barrel\n",
            "LNG Rate: $13.3200 per MMBTU\n"
          ]
        }
      ]
    }
  ]
}